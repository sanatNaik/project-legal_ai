{
 "cells": [
  {
   "cell_type": "code",
   "execution_count": 1,
   "id": "788066e4-4615-4a3c-b2b2-41f9bfe6e45e",
   "metadata": {},
   "outputs": [],
   "source": [
    "from langchain_community.document_loaders import JSONLoader\n",
    "from langchain.embeddings.sentence_transformer import SentenceTransformerEmbeddings\n",
    "from langchain_community.vectorstores import Chroma\n",
    "import json\n",
    "import os\n",
    "from langchain_core.documents import Document\n",
    "from sentence_transformers import SentenceTransformer"
   ]
  },
  {
   "cell_type": "code",
   "execution_count": 3,
   "id": "9f8fe993-55a9-4244-b8a3-3bf5051e20da",
   "metadata": {},
   "outputs": [],
   "source": [
    "#import sentence transformer model for embedding\n",
    "from sentence_transformers import SentenceTransformer\n",
    "\n",
    "embed_model = SentenceTransformer('all-MiniLM-L6-v2')"
   ]
  },
  {
   "cell_type": "code",
   "execution_count": null,
   "id": "d26a224b-d525-4d53-a2db-7776a1161c8b",
   "metadata": {},
   "outputs": [],
   "source": [
    "#creating a file with the combined data of all the 6 legal documents\n",
    "\n",
    "input_folder = 'legal_docs'\n",
    "output_file = 'combined_legal_docs.json'\n",
    "\n",
    "combined_data = []\n",
    "\n",
    "for filename in os.listdir(input_folder):\n",
    "    if filename.endswith('.json'):\n",
    "        filepath = os.path.join(input_folder, filename)\n",
    "        \n",
    "        with open(filepath, 'r', encoding='utf-8') as f:\n",
    "            try:\n",
    "                data = json.load(f)\n",
    "            except json.JSONDecodeError as e:\n",
    "                print(f\"Error in {filename}: {e}\")\n",
    "                continue\n",
    "\n",
    "            for obj in data:\n",
    "                obj['source'] = filename.replace(\"_\",\" \").replace(\".json\",\"\")\n",
    "                combined_data.append(obj)\n",
    "\n",
    "# Write combined JSON\n",
    "with open(output_file, 'w', encoding='utf-8') as f:\n",
    "    json.dump(combined_data, f, indent=2, ensure_ascii=False)\n",
    "\n",
    "print(f\"Combined {len(combined_data)} entries into {output_file}\")"
   ]
  },
  {
   "cell_type": "code",
   "execution_count": 2,
   "id": "2dc7af6f-3ef2-4f33-aebc-fe4d1522cc89",
   "metadata": {},
   "outputs": [],
   "source": [
    "#creating metadata and content functions that create a dictionary object containing all parameters\n",
    "\n",
    "def metadata_func(record: dict, metadata: dict) -> dict:\n",
    "    metadata[\"Article\"] = record.get(\"article\") or \"none\"\n",
    "    metadata[\"Title\"] = record.get(\"title\") or \"none\"\n",
    "    metadata[\"Section_Title\"] = record.get(\"section_title\") or \"none\"\n",
    "    metadata[\"Chapter_Title\"] = record.get(\"chapter_title\") or \"none\"\n",
    "    metadata[\"Chapter\"] = record.get(\"chapter\") or \"none\"\n",
    "    metadata[\"Section\"] = record.get(\"Section\") or record.get(\"section\") or \"none\"\n",
    "    metadata[\"source\"] = record.get(\"source\") or \"unknown\"\n",
    "    return metadata\n",
    "    \n",
    "def get_content(record):\n",
    "    return record.get(\"description\") or record.get(\"section_desc\") or \"\"\n",
    "    "
   ]
  },
  {
   "cell_type": "code",
   "execution_count": null,
   "id": "e11b3250-2249-4cdd-b008-00d0624cfa0c",
   "metadata": {},
   "outputs": [],
   "source": [
    "#json loader that loads the data from the file combined legal docs\n",
    "\n",
    "loader = JSONLoader(\n",
    "    file_path=\"./combined_legal_docs.json\",\n",
    "    jq_schema=\".[]?\",\n",
    "    content_key=None,\n",
    "    text_content=False,\n",
    "    metadata_func=metadata_func,\n",
    ")\n",
    "\n",
    "documents_raw = loader.load()"
   ]
  },
  {
   "cell_type": "code",
   "execution_count": null,
   "id": "bd4bdb89-c9e4-4e52-a545-e5263bd4c6d2",
   "metadata": {},
   "outputs": [],
   "source": [
    "#creates document list that contains page_content and metadata of each law\n",
    "\n",
    "document = []\n",
    "for doc in documents_raw:\n",
    "    record = json.loads(doc.page_content)\n",
    "    content = get_content(record)\n",
    "    \n",
    "    if not content.strip():\n",
    "        continue\n",
    "        \n",
    "    document.append(Document(\n",
    "        page_content = content,\n",
    "        metadata = doc.metadata\n",
    "    ))"
   ]
  },
  {
   "cell_type": "code",
   "execution_count": null,
   "id": "4c38aa45-7ff6-49f1-b8a4-fa5b2c6ba475",
   "metadata": {},
   "outputs": [],
   "source": [
    "from langchain_chroma import Chroma\n",
    "import chromadb\n",
    "from chromadb.config import Settings\n",
    "from chromadb.utils import embedding_functions"
   ]
  },
  {
   "cell_type": "code",
   "execution_count": null,
   "id": "ef8f7ec4-eb44-40b6-a36f-80bc141918ce",
   "metadata": {},
   "outputs": [],
   "source": [
    "# Create a local ChromaDB instance\n",
    "chroma_client = chromadb.PersistentClient(path=\"./chroma_legal_db\")\n",
    "\n",
    "collection = chroma_client.get_or_create_collection(\n",
    "    name=\"legal_documents\"\n",
    ")\n",
    "\n",
    "# Add documents\n",
    "for i, doc in enumerate(document):\n",
    "    collection.add(\n",
    "        ids=[str(i)],\n",
    "        embeddings=[embeddings[i]],\n",
    "        metadatas=[doc.metadata],\n",
    "        documents=[doc.page_content]\n",
    "    )"
   ]
  }
 ],
 "metadata": {
  "kernelspec": {
   "display_name": "Python legal_rag",
   "language": "python",
   "name": "legal_rag"
  },
  "language_info": {
   "codemirror_mode": {
    "name": "ipython",
    "version": 3
   },
   "file_extension": ".py",
   "mimetype": "text/x-python",
   "name": "python",
   "nbconvert_exporter": "python",
   "pygments_lexer": "ipython3",
   "version": "3.10.18"
  }
 },
 "nbformat": 4,
 "nbformat_minor": 5
}
